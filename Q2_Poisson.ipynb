{
  "nbformat": 4,
  "nbformat_minor": 0,
  "metadata": {
    "colab": {
      "provenance": [],
      "include_colab_link": true
    },
    "kernelspec": {
      "name": "python3",
      "display_name": "Python 3"
    },
    "language_info": {
      "name": "python"
    }
  },
  "cells": [
    {
      "cell_type": "markdown",
      "metadata": {
        "id": "view-in-github",
        "colab_type": "text"
      },
      "source": [
        "<a href=\"https://colab.research.google.com/github/iisouza/TP547/blob/main/Q2_Poisson.ipynb\" target=\"_parent\"><img src=\"https://colab.research.google.com/assets/colab-badge.svg\" alt=\"Open In Colab\"/></a>"
      ]
    },
    {
      "cell_type": "code",
      "execution_count": null,
      "metadata": {
        "id": "UinCIGjWhQy3"
      },
      "outputs": [],
      "source": [
        "#!pip install numpy\n",
        "#!pip install matplotlib"
      ]
    },
    {
      "cell_type": "markdown",
      "source": [
        "Importando as bibliotecas necessárias:"
      ],
      "metadata": {
        "id": "m2OqrJXppSYF"
      }
    },
    {
      "cell_type": "code",
      "source": [
        "import numpy as np\n",
        "import matplotlib.pyplot as plt"
      ],
      "metadata": {
        "id": "TGs7wfR6pXWx"
      },
      "execution_count": 1,
      "outputs": []
    },
    {
      "cell_type": "markdown",
      "source": [
        "O número de chamadas para o *help-desk* de uma empresa tem uma distribuição de Poisson com 60 chamadas por um período de 10 horas. Seja C uma Variável Aleatória para o número de\n",
        "chamadas por hora."
      ],
      "metadata": {
        "id": "MbNP6DKtW3PM"
      }
    },
    {
      "cell_type": "code",
      "source": [
        "# Inicialização das Variáveis segundo a Distribuição de Poisson:\n",
        "lambda1 = 6   # Número médio de chamadas por hora.\n",
        "N = 100000    # Número de amostras a serem geradas.\n",
        "av = np.array([])\n",
        "x = np.random.uniform(0, 1, N)"
      ],
      "metadata": {
        "id": "cVTRKAQChRyg"
      },
      "execution_count": null,
      "outputs": []
    },
    {
      "cell_type": "markdown",
      "source": [
        "**(a)** a probabilidade de o suporte técnico não receber chamada em uma determinada hora."
      ],
      "metadata": {
        "id": "h5pujxEqXJdf"
      }
    },
    {
      "cell_type": "code",
      "source": [
        "value, count = [0, 0] # Chamadas de Referência e Probabilidade Acumulada.\n",
        "\n",
        "for ix in x:\n",
        "    pr = np.exp(-lambda1)\n",
        "    F = pr\n",
        "    i = 0\n",
        "\n",
        "    while ix>=F:\n",
        "        pr = lambda1/(i + 1)*pr\n",
        "        F = F + pr\n",
        "        i += 1;\n",
        "\n",
        "    av = np.append(av, i)\n",
        "    if i == value: count += 1\n",
        "\n",
        "print('Probabilidade de não receber chamadas = {:.4f}'.format(count/N))"
      ],
      "metadata": {
        "id": "caoUSpolJG_N",
        "outputId": "0520a447-e522-4da9-de3a-fbf18737a59f",
        "colab": {
          "base_uri": "https://localhost:8080/"
        }
      },
      "execution_count": null,
      "outputs": [
        {
          "output_type": "stream",
          "name": "stdout",
          "text": [
            "Probabilidade de não receber chamadas = 0.0026\n"
          ]
        }
      ]
    },
    {
      "cell_type": "markdown",
      "source": [
        "**(b)** a probabilidade de que o suporte técnico receba menos de oito chamadas em uma determinada hora."
      ],
      "metadata": {
        "id": "9nPA5T-BXQkT"
      }
    },
    {
      "cell_type": "code",
      "source": [
        "value, count = [8, 0] # Chamadas de Referência e Probabilidade Acumulada.\n",
        "\n",
        "for ix in x:\n",
        "    pr = np.exp(-lambda1)\n",
        "    F = pr\n",
        "    i = 0\n",
        "\n",
        "    while ix>=F:\n",
        "        pr = lambda1/(i + 1)*pr\n",
        "        F = F + pr\n",
        "        i += 1;\n",
        "\n",
        "    av = np.append(av, i)\n",
        "    if i < value: count += 1\n",
        "\n",
        "print('Probabilidade de não receber chamadas = {:.4f}'.format(count/N))"
      ],
      "metadata": {
        "id": "k4umYcOrJHSq",
        "outputId": "e8e68c17-18c2-4936-eba1-95f10d102b4c",
        "colab": {
          "base_uri": "https://localhost:8080/"
        }
      },
      "execution_count": null,
      "outputs": [
        {
          "output_type": "stream",
          "name": "stdout",
          "text": [
            "Probabilidade de não receber chamadas = 0.7436\n"
          ]
        }
      ]
    }
  ]
}