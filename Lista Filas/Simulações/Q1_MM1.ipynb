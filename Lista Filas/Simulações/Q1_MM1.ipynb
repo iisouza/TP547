{
  "nbformat": 4,
  "nbformat_minor": 0,
  "metadata": {
    "colab": {
      "provenance": []
    },
    "kernelspec": {
      "name": "python3",
      "display_name": "Python 3"
    },
    "language_info": {
      "name": "python"
    }
  },
  "cells": [
    {
      "cell_type": "code",
      "source": [
        "#!pip install numpy"
      ],
      "metadata": {
        "id": "EpHnMWG7JgvI"
      },
      "execution_count": null,
      "outputs": []
    },
    {
      "cell_type": "code",
      "source": [
        "import numpy as np"
      ],
      "metadata": {
        "id": "uiK6fY7Fh88k"
      },
      "execution_count": 1,
      "outputs": []
    },
    {
      "cell_type": "code",
      "execution_count": 14,
      "metadata": {
        "id": "q7OinFtJJexC",
        "colab": {
          "base_uri": "https://localhost:8080/"
        },
        "outputId": "55b84cd3-f0bc-458e-f3af-3e54f1a41c26"
      },
      "outputs": [
        {
          "output_type": "stream",
          "name": "stdout",
          "text": [
            "Número médio de elementos na Fila Ew = 0.9095\n",
            "Tempo médio no Sistema Etq = 2.5158\n"
          ]
        }
      ],
      "source": [
        "Eq, Es = [0, 1]  # Elementos na Fila e no Servido\n",
        "k1, k2 = [0, 0]  # Variáveis auxiliares\n",
        "y, mi = [3/5, 1] # Taxas de chegada e de atendimento.\n",
        "\n",
        "# Tempos de chegadas e de partidas:\n",
        "chegadas = np.random.exponential(1/y, 20000)\n",
        "partidas = np.random.exponential(1/mi, 20000)\n",
        "tempoChegadas, tempoPartidas, tempoSistema = [[0], [], []]\n",
        "\n",
        "# Próximos chegada, partida e tempo de execução:\n",
        "ta, td = chegadas[k1], partidas[k2]\n",
        "t = np.minimum(ta, td)\n",
        "k = 0            # Número de partidas\n",
        "\n",
        "while (t < 20000):\n",
        "  if ta < td:   # Próximo evento é uma chegada\n",
        "    k1 = k1 + 1\n",
        "    if Es == 1:\n",
        "      # Se o servidor estiver ocupado:\n",
        "      Eq = Eq + 1           # Aumenta o número de elementos na fila\n",
        "      ta = t + chegadas[k1] # Gera nova chegada\n",
        "      tempoChegadas = np.append(tempoChegadas, t)\n",
        "\n",
        "    else:\n",
        "      # Se o servidor estiver ocioso:\n",
        "      Es = 1                # Ocupa o servidor livre.\n",
        "      k2 = k2 + 1\n",
        "      td = t + partidas[k2] # Gera a próxima chegada.\n",
        "      ta = t + chegadas[k1] # Gera a saída atual.\n",
        "      tempoChegadas = np.append(tempoChegadas, t) #aramazena tempo atual de chegada\n",
        "\n",
        "  else: # Próximo evento é uma partida\n",
        "    k = k + 1\n",
        "\n",
        "    if Eq > 0:\n",
        "      # Se existem elementos na fila:\n",
        "      tempoPartidas = np.append(tempoPartidas, t)\n",
        "      tempoSistema = np.append(tempoSistema, (tempoPartidas[k-1] - tempoChegadas[k-1]))\n",
        "      Eq = Eq - 1\n",
        "      k2 = k2 + 1\n",
        "      td = t + partidas[k2] # Gera a próxima partida\n",
        "\n",
        "    else:\n",
        "      # Se não há pacotes na fila:\n",
        "      Es = 0 # Servidor vazio\n",
        "      tempoPartidas = np.append(tempoPartidas, t)\n",
        "      tempoSistema = np.append(tempoSistema, (tempoPartidas[k-1] - tempoChegadas[k-1]))\n",
        "      td = np.infty\n",
        "\n",
        "  t = np.minimum(ta, td) #calculo o tempo minimo entre chegada e partida\n",
        "\n",
        "rho = y/mi\n",
        "Etw, Etq = [np.mean(tempoSistema) - 1/mi, np.mean(tempoSistema)]\n",
        "Ew, Eq = [y*Etw, y*Etq]\n",
        "\n",
        "print(f'Número médio de elementos na Fila Ew = {Ew:.4f}')\n",
        "print(f'Tempo médio no Sistema Etq = {Etq:.4f}')\n"
      ]
    }
  ]
}