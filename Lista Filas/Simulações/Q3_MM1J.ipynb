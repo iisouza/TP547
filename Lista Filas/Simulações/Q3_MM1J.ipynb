{
  "nbformat": 4,
  "nbformat_minor": 0,
  "metadata": {
    "colab": {
      "provenance": []
    },
    "kernelspec": {
      "name": "python3",
      "display_name": "Python 3"
    },
    "language_info": {
      "name": "python"
    }
  },
  "cells": [
    {
      "cell_type": "code",
      "source": [
        "#!pip install numpy"
      ],
      "metadata": {
        "id": "EpHnMWG7JgvI"
      },
      "execution_count": null,
      "outputs": []
    },
    {
      "cell_type": "code",
      "source": [
        "import numpy as np"
      ],
      "metadata": {
        "id": "uiK6fY7Fh88k"
      },
      "execution_count": null,
      "outputs": []
    },
    {
      "cell_type": "code",
      "execution_count": 16,
      "metadata": {
        "id": "q7OinFtJJexC",
        "colab": {
          "base_uri": "https://localhost:8080/"
        },
        "outputId": "c1bc703e-a3e3-48bb-c8bd-72d32640044c"
      },
      "outputs": [
        {
          "output_type": "stream",
          "name": "stdout",
          "text": [
            "Para sistema com 1 servidor:\n",
            "Número e Tempo médios de elementos no Sistema Eq = 0.8517, Etq = 5.7652 ms\n",
            "Probabilidade de Bloqueio Pb = 0.2613\n",
            "\n",
            "Para sistema com 5 servidores:\n",
            "Número e Tempo médios de elementos no Sistema Eq = 2.1424, Etq = 11.4599 ms\n",
            "Probabilidade de Bloqueio Pb = 0.0653\n",
            "\n",
            "Para sistema com 10 servidores:\n",
            "Número e Tempo médios de elementos no Sistema Eq = 3.0893, Etq = 15.7241 ms\n",
            "Probabilidade de Bloqueio Pb = 0.0177\n",
            "\n",
            "Para sistema com 15 servidores:\n",
            "Número e Tempo médios de elementos no Sistema Eq = 3.6082, Etq = 18.1451 ms\n",
            "Probabilidade de Bloqueio Pb = 0.0057\n",
            "\n"
          ]
        }
      ],
      "source": [
        "\n",
        "for J in [1, 5, 10, 15]:  # Capacidades do buffer.\n",
        "  t, k = [0, 0]           # Instante Inicial e Número de Partidas.\n",
        "  Eq, Es = [0, 1]         # Número de Elementos na Fila e no Servidor.\n",
        "  y, mi = [200, 250]      # Taxa media de chegada e de atendimento.\n",
        "  Pb, chegadas = [0, 0]   # Número de elementos bloqueados e chegadas.\n",
        "\n",
        "  ta = t + np.random.exponential(1/y, 1)    # Chegada inicial.\n",
        "  td = t + np.random.exponential(1/mi, 1)   # Partida inicial.\n",
        "  t = np.minimum(ta, td)                    # Próxima ocorrência de evento.\n",
        "\n",
        "  # Tempos de chegadas, partida e de sistema:\n",
        "  tempoChegadas, tempoPartidas, tempoSistema = [[0], [], []]\n",
        "  while (t < 1000):\n",
        "    if ta < td:   # Próximo evento é uma chegada\n",
        "      chegadas = chegadas + 1                   # Contabiliza uma chegada.\n",
        "      ta = t + np.random.exponential(1/y, 1)    # Gera a próxima partida.\n",
        "\n",
        "      if Es == 1: # Se o servidor estiver ocupado:\n",
        "        if Eq == J: Pb = Pb + 1                 # Elemento bloqueado se o buffer estiver cheio.\n",
        "        else:                                   # Armazena o elemento no buffer.\n",
        "          Eq = Eq + 1                           # Aumenta o número de elementos na fila.\n",
        "          tempoChegadas = np.append(tempoChegadas, t)\n",
        "      else:       # Se o servidor estiver ocioso:\n",
        "        Es = 1                                  # Ocupa o servidor livre.\n",
        "        td = t + np.random.exponential(1/mi, 1) # Gera a próxima partida.\n",
        "        tempoChegadas = np.append(tempoChegadas, t)\n",
        "\n",
        "    else:         # Próximo evento é uma partida\n",
        "      k = k + 1\n",
        "      tempoPartidas = np.append(tempoPartidas, t)\n",
        "\n",
        "      if Eq > 0:  # Se existem elementos na fila:\n",
        "        Eq = Eq - 1                                   # Decrementa a fila.\n",
        "        td = t + np.random.exponential(1/mi, 1)       # Gera a próximo partida.\n",
        "      else:\n",
        "        Es = 0\n",
        "        td = np.infty\n",
        "\n",
        "      tempoSistema = np.append(tempoSistema, (tempoPartidas[k-1] - tempoChegadas[k-1]))\n",
        "    t = np.minimum(ta, td)\n",
        "\n",
        "  rho, Pb = [y/mi, Pb/chegadas]\n",
        "  Etw, Etq = [np.mean(tempoSistema) - 1/mi, np.mean(tempoSistema)]\n",
        "  Ew, Eq = [y*Etw*(1 - Pb), y*Etq*(1 - Pb)]\n",
        "\n",
        "  print(f'Para sistema com {J} servidor{\"es\" if J > 1 else \"\"}:')\n",
        "  print(f'Número e Tempo médios de elementos no Sistema Eq = {Eq:.4f}, Etq = {Etq*1000:.4f} ms')\n",
        "  print(f'Probabilidade de Bloqueio Pb = {Pb:.4f}\\n')"
      ]
    }
  ]
}