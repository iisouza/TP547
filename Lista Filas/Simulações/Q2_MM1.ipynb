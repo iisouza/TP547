{
  "nbformat": 4,
  "nbformat_minor": 0,
  "metadata": {
    "colab": {
      "provenance": []
    },
    "kernelspec": {
      "name": "python3",
      "display_name": "Python 3"
    },
    "language_info": {
      "name": "python"
    }
  },
  "cells": [
    {
      "cell_type": "code",
      "source": [
        "#!pip install numpy"
      ],
      "metadata": {
        "id": "EpHnMWG7JgvI"
      },
      "execution_count": null,
      "outputs": []
    },
    {
      "cell_type": "code",
      "source": [
        "import numpy as np"
      ],
      "metadata": {
        "id": "uiK6fY7Fh88k"
      },
      "execution_count": 2,
      "outputs": []
    },
    {
      "cell_type": "code",
      "execution_count": 10,
      "metadata": {
        "id": "q7OinFtJJexC",
        "colab": {
          "base_uri": "https://localhost:8080/"
        },
        "outputId": "317351df-4c32-42d9-d06d-effd60913b4c"
      },
      "outputs": [
        {
          "output_type": "stream",
          "name": "stdout",
          "text": [
            "Tempo Médio de espera na Fila E[tw] = 6.6345 ms\n",
            "Tempo médio no Sistema E[tq] = 16.6345 ms\n"
          ]
        }
      ],
      "source": [
        "Eq, Es = [0, 1]       # Elementos na Fila e no Servidor.\n",
        "y, mi = [40, 1/0.01]  # Taxas de chegada e de atendimento.\n",
        "\n",
        "# Próximos chegada, partida e tempo de execução para atendimento exponencial:\n",
        "ta, td = np.random.exponential(1/y, 1), np.random.exponential(1/mi, 1)\n",
        "tempoChegadas, tempoPartidas, tempoSistema = [[0], [], []]\n",
        "t = np.minimum(ta, td)\n",
        "k = 0             # Número de partidas.\n",
        "\n",
        "while (t < 1000):\n",
        "  if ta < td:     # Próximo evento é uma chegada\n",
        "    tempoChegadas = np.append(tempoChegadas, t)\n",
        "    ta = t + np.random.exponential(1/y, 1)  # Gera nova chegada.\n",
        "\n",
        "    if Es == 1: Eq = Eq + 1   # Aumenta o número de elementos na fila.\n",
        "    else:                     # Se o servidor estiver ocioso:\n",
        "      Es = 1                  # Ocupa o servidor livre e gera a partida.\n",
        "      td = t + np.random.exponential(1/mi, 1)\n",
        "\n",
        "  else:         # Próximo evento é uma partida\n",
        "    k = k + 1\n",
        "    tempoPartidas = np.append(tempoPartidas, t)\n",
        "\n",
        "    if Eq > 0:  # Se existem elementos na fila:\n",
        "      Eq = Eq - 1 # Diminui o número de elementos na fila e gera a partida.\n",
        "      td = t + np.random.exponential(1/mi, 1)\n",
        "    else:       # Se não há pacotes na fila:\n",
        "      Es = 0    # Servidor vazio\n",
        "      td = np.infty\n",
        "\n",
        "    tempoSistema = np.append(tempoSistema, (tempoPartidas[k-1] - tempoChegadas[k-1]))\n",
        "  t = np.minimum(ta, td) # Ocorrência do próximo evento.\n",
        "\n",
        "Etw, Etq = [np.mean(tempoSistema) - 1/mi, np.mean(tempoSistema)]\n",
        "print(f'Tempo Médio de espera na Fila E[tw] = {Etw*1000:.4f} ms')\n",
        "print(f'Tempo médio no Sistema E[tq] = {Etq*1000:.4f} ms')\n"
      ]
    }
  ]
}