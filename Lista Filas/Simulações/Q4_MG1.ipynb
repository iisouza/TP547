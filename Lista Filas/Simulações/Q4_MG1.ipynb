{
  "nbformat": 4,
  "nbformat_minor": 0,
  "metadata": {
    "colab": {
      "provenance": []
    },
    "kernelspec": {
      "name": "python3",
      "display_name": "Python 3"
    },
    "language_info": {
      "name": "python"
    }
  },
  "cells": [
    {
      "cell_type": "code",
      "source": [
        "#!pip install numpy"
      ],
      "metadata": {
        "id": "EpHnMWG7JgvI"
      },
      "execution_count": null,
      "outputs": []
    },
    {
      "cell_type": "code",
      "source": [
        "import numpy as np"
      ],
      "metadata": {
        "id": "uiK6fY7Fh88k"
      },
      "execution_count": 2,
      "outputs": []
    },
    {
      "cell_type": "code",
      "source": [
        "for tratamento in ['constante', 'exponencial']:\n",
        "  Eq, Es = [0, 1]   # Elementos na Fila e no Servidor.\n",
        "  y, mi = [1, 5]    # Taxas de chegada e de atendimento.\n",
        "\n",
        "  # Próximos chegada, partida e tempo de execução dependem da distribuição\n",
        "  # do tamanho dos pacotes:\n",
        "  ta = np.random.exponential(1/y, 1)\n",
        "  td = np.random.exponential(1/mi, 1) if tratamento == 'exponencial' else 1/mi\n",
        "  tempoChegadas, tempoPartidas, tempoSistema = [[0], [], []]\n",
        "  t = np.minimum(ta, td)\n",
        "  k = 0             # Número de partidas.\n",
        "\n",
        "  while (t < 50000):\n",
        "    if ta < td:     # Próximo evento é uma chegada\n",
        "      tempoChegadas = np.append(tempoChegadas, t)\n",
        "      ta = t + np.random.exponential(1/y, 1)  # Gera nova chegada.\n",
        "\n",
        "      if Es == 1: Eq = Eq + 1   # Aumenta o número de elementos na fila.\n",
        "      else:                     # Se o servidor estiver ocioso:\n",
        "        Es = 1                  # Ocupa o servidor livre e gera a partida.\n",
        "        td = t + (np.random.exponential(1/mi, 1) if tratamento == 'exponencial' else 1/mi)\n",
        "\n",
        "    else:         # Próximo evento é uma partida\n",
        "      k = k + 1\n",
        "      tempoPartidas = np.append(tempoPartidas, t)\n",
        "\n",
        "      if Eq > 0:  # Se existem elementos na fila:\n",
        "        Eq = Eq - 1 # Diminui o número de elementos na fila e gera a partida.\n",
        "        td = t + (np.random.exponential(1/mi, 1) if tratamento == 'exponencial' else 1/mi)\n",
        "      else:       # Se não há pacotes na fila:\n",
        "        Es = 0    # Servidor vazio\n",
        "        td = np.infty\n",
        "\n",
        "      tempoSistema = np.append(tempoSistema, (tempoPartidas[k-1] - tempoChegadas[k-1]))\n",
        "    t = np.minimum(ta, td) # Ocorrência do próximo evento.\n",
        "\n",
        "  print(f'Sistema com tratamento {tratamento}:')\n",
        "  print(f'Tempo médio no Sistema E[tq] = {np.mean(tempoSistema)*1000:.4f} ms.\\n')"
      ],
      "metadata": {
        "colab": {
          "base_uri": "https://localhost:8080/"
        },
        "id": "eSyfUazT4dDv",
        "outputId": "666edd0b-37d9-4be6-c3ba-30081cc4321c"
      },
      "execution_count": 3,
      "outputs": [
        {
          "output_type": "stream",
          "name": "stdout",
          "text": [
            "Sistema com tratamento constante:\n",
            "Tempo médio no Sistema E[tq] = 224.6197 ms.\n",
            "\n",
            "Sistema com tratamento exponencial:\n",
            "Tempo médio no Sistema E[tq] = 250.9638 ms.\n",
            "\n"
          ]
        }
      ]
    }
  ]
}