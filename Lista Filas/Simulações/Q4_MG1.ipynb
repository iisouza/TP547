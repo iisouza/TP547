{
  "nbformat": 4,
  "nbformat_minor": 0,
  "metadata": {
    "colab": {
      "provenance": []
    },
    "kernelspec": {
      "name": "python3",
      "display_name": "Python 3"
    },
    "language_info": {
      "name": "python"
    }
  },
  "cells": [
    {
      "cell_type": "code",
      "source": [
        "#!pip install numpy"
      ],
      "metadata": {
        "id": "EpHnMWG7JgvI"
      },
      "execution_count": null,
      "outputs": []
    },
    {
      "cell_type": "code",
      "source": [
        "import numpy as np"
      ],
      "metadata": {
        "id": "uiK6fY7Fh88k"
      },
      "execution_count": 2,
      "outputs": []
    },
    {
      "cell_type": "code",
      "execution_count": 9,
      "metadata": {
        "id": "q7OinFtJJexC",
        "colab": {
          "base_uri": "https://localhost:8080/"
        },
        "outputId": "7dda79ba-9b8a-4d0d-f09c-b12806ad602f"
      },
      "outputs": [
        {
          "output_type": "stream",
          "name": "stdout",
          "text": [
            "Sistema com tratamento constante:\n",
            "Tempo médio no Sistema E[tq] = 225.6314 ms.\n",
            "\n",
            "Sistema com tratamento exponencial:\n",
            "Tempo médio no Sistema E[tq] = 249.9918 ms.\n",
            "\n"
          ]
        }
      ],
      "source": [
        "for tratamento in ['constante', 'exponencial']:\n",
        "  Eq, Es = [0, 1]   # Elementos na Fila e no Servidor.\n",
        "  k1, k2 = [0, 0]   # Variáveis auxiliares\n",
        "  y, mi = [1, 5]    # Taxas de chegada e de atendimento.\n",
        "\n",
        "  # Próximos chegada, partida e tempo de execução:\n",
        "  ta = np.random.exponential(1/y, 1)\n",
        "  td = np.random.exponential(1/mi, 1) if tratamento == 'exponencial' else 1/mi\n",
        "  tempoChegadas, tempoPartidas, tempoSistema = [[0], [], []]\n",
        "  t = np.minimum(ta, td)\n",
        "  k = 0             # Número de partidas\n",
        "\n",
        "  while (t < 50000):\n",
        "    if ta < td:   # Próximo evento é uma chegada\n",
        "      k1 = k1 + 1\n",
        "      if Es == 1:\n",
        "        # Se o servidor estiver ocupado:\n",
        "        Eq = Eq + 1                             # Aumenta o número de elementos na fila\n",
        "        ta = t + np.random.exponential(1/y, 1)  # Gera nova chegada\n",
        "        tempoChegadas = np.append(tempoChegadas, t)\n",
        "\n",
        "      else:\n",
        "        # Se o servidor estiver ocioso:\n",
        "        Es = 1                # Ocupa o servidor livre.\n",
        "        k2 = k2 + 1\n",
        "        td = t + (np.random.exponential(1/mi, 1) if tratamento == 'exponencial' else 1/mi)\n",
        "        ta = t + np.random.exponential(1/y, 1)  # Gera a saída atual.\n",
        "        tempoChegadas = np.append(tempoChegadas, t) #aramazena tempo atual de chegada\n",
        "\n",
        "    else: # Próximo evento é uma partida\n",
        "      k = k + 1\n",
        "\n",
        "      if Eq > 0:\n",
        "        # Se existem elementos na fila:\n",
        "        tempoPartidas = np.append(tempoPartidas, t)\n",
        "        tempoSistema = np.append(tempoSistema, (tempoPartidas[k-1] - tempoChegadas[k-1]))\n",
        "        Eq = Eq - 1\n",
        "        k2 = k2 + 1\n",
        "        td = t + (np.random.exponential(1/mi, 1) if tratamento == 'exponencial' else 1/mi)\n",
        "\n",
        "      else:\n",
        "        # Se não há pacotes na fila:\n",
        "        Es = 0 # Servidor vazio\n",
        "        tempoPartidas = np.append(tempoPartidas, t)\n",
        "        tempoSistema = np.append(tempoSistema, (tempoPartidas[k-1] - tempoChegadas[k-1]))\n",
        "        td = np.infty\n",
        "\n",
        "    t = np.minimum(ta, td) #calculo o tempo minimo entre chegada e partida\n",
        "\n",
        "  print(f'Sistema com tratamento {tratamento}:')\n",
        "  print(f'Tempo médio no Sistema E[tq] = {np.mean(tempoSistema)*1000:.4f} ms.\\n')\n"
      ]
    }
  ]
}