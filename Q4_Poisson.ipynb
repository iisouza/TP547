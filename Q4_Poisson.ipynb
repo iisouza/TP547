{
  "nbformat": 4,
  "nbformat_minor": 0,
  "metadata": {
    "colab": {
      "provenance": [],
      "include_colab_link": true
    },
    "kernelspec": {
      "name": "python3",
      "display_name": "Python 3"
    },
    "language_info": {
      "name": "python"
    }
  },
  "cells": [
    {
      "cell_type": "markdown",
      "metadata": {
        "id": "view-in-github",
        "colab_type": "text"
      },
      "source": [
        "<a href=\"https://colab.research.google.com/github/iisouza/TP547/blob/main/Q4_Poisson.ipynb\" target=\"_parent\"><img src=\"https://colab.research.google.com/assets/colab-badge.svg\" alt=\"Open In Colab\"/></a>"
      ]
    },
    {
      "cell_type": "code",
      "execution_count": null,
      "metadata": {
        "id": "UinCIGjWhQy3",
        "outputId": "ac58228c-c2dc-4c4e-a7ed-b7b076d2dafa",
        "colab": {
          "base_uri": "https://localhost:8080/"
        }
      },
      "outputs": [
        {
          "output_type": "stream",
          "name": "stdout",
          "text": [
            "Requirement already satisfied: numpy in /usr/local/lib/python3.10/dist-packages (1.25.2)\n"
          ]
        }
      ],
      "source": [
        "#!pip install numpy\n",
        "#!pip install matplotlib"
      ]
    },
    {
      "cell_type": "markdown",
      "source": [
        "Importando as bibliotecas necessárias:"
      ],
      "metadata": {
        "id": "8YUlF1iGrGp7"
      }
    },
    {
      "cell_type": "code",
      "source": [
        "import numpy as np\n",
        "import matplotlib.pyplot as plt"
      ],
      "metadata": {
        "id": "Wm0aovRKrHEJ"
      },
      "execution_count": 1,
      "outputs": []
    },
    {
      "cell_type": "markdown",
      "source": [
        "Se ocorrerem falhas de energia elétrica de acordo com uma distribuição de Poisson com uma média de 6 falhas a cada duas semanas, calcule a probabilidade de que haverá ao menos 2 falhas\n",
        "durante uma semana específica."
      ],
      "metadata": {
        "id": "MbNP6DKtW3PM"
      }
    },
    {
      "cell_type": "markdown",
      "source": [
        "Inicialização das Variáveis segundo a Distribuição de Poisson:"
      ],
      "metadata": {
        "id": "_kuAaqxurUuX"
      }
    },
    {
      "cell_type": "code",
      "source": [
        "lambda1 = 3   # Número médio de falhas de energia por semana.\n",
        "N = 100000    # Número de amostras a serem geradas.\n",
        "av = np.array([])\n",
        "x = np.random.uniform(0, 1, N)"
      ],
      "metadata": {
        "id": "D4C5JCQRrW_P"
      },
      "execution_count": 2,
      "outputs": []
    },
    {
      "cell_type": "code",
      "source": [
        "value, count = [2, 0] # Chamadas de Referência e Probabilidade Acumulada.\n",
        "\n",
        "for ix in x:\n",
        "    pr = np.exp(-lambda1)\n",
        "    F = pr\n",
        "    i = 0\n",
        "\n",
        "    while ix >= F:\n",
        "        pr = lambda1/(i + 1)*pr\n",
        "        F = F + pr\n",
        "        i += 1\n",
        "\n",
        "    av = np.append(av, i)\n",
        "    if i >= value: count += 1\n",
        "\n",
        "print('Probabilidade ao menos 2 falhas em uma semana = {:.4f}'.format(count/N))"
      ],
      "metadata": {
        "id": "cVTRKAQChRyg",
        "colab": {
          "base_uri": "https://localhost:8080/"
        },
        "outputId": "01ed6410-8b4a-41be-bbca-5d7edf07a11f"
      },
      "execution_count": 3,
      "outputs": [
        {
          "output_type": "stream",
          "name": "stdout",
          "text": [
            "Probabilidade ao menos 2 falhas em uma semana = 0.8012\n"
          ]
        }
      ]
    },
    {
      "cell_type": "markdown",
      "source": [
        "Plotar o histograma da variável analisada."
      ],
      "metadata": {
        "id": "9nPA5T-BXQkT"
      }
    },
    {
      "cell_type": "code",
      "source": [
        "plt.hist(av, bins=range(int(av.min()), int(av.max()) + 1), density=True)\n",
        "plt.title('Distribuição da Quantidade de Falhas de Energia por Semana')\n",
        "plt.xlabel('Falhas de Energia')\n",
        "plt.ylabel('Densidade')\n",
        "plt.show()"
      ],
      "metadata": {
        "id": "k4umYcOrJHSq",
        "outputId": "1ca58f34-8821-4ca4-df6a-fd83fcdf798b",
        "colab": {
          "base_uri": "https://localhost:8080/",
          "height": 472
        }
      },
      "execution_count": 4,
      "outputs": [
        {
          "output_type": "display_data",
          "data": {
            "text/plain": [
              "<Figure size 640x480 with 1 Axes>"
            ],
            "image/png": "[encoded data removed]"
          },
          "metadata": {}
        }
      ]
    }
  ]
}