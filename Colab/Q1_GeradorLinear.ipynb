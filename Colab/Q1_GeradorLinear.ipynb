{
  "nbformat": 4,
  "nbformat_minor": 0,
  "metadata": {
    "colab": {
      "provenance": [],
      "include_colab_link": true
    },
    "kernelspec": {
      "name": "python3",
      "display_name": "Python 3"
    },
    "language_info": {
      "name": "python"
    }
  },
  "cells": [
    {
      "cell_type": "markdown",
      "metadata": {
        "id": "view-in-github",
        "colab_type": "text"
      },
      "source": [
        "<a href=\"https://colab.research.google.com/github/iisouza/TP547/blob/main/Q1_GeradorLinear.ipynb\" target=\"_parent\"><img src=\"https://colab.research.google.com/assets/colab-badge.svg\" alt=\"Open In Colab\"/></a>"
      ]
    },
    {
      "cell_type": "code",
      "execution_count": null,
      "metadata": {
        "id": "J_G_EITDf9j-"
      },
      "outputs": [],
      "source": [
        "#!pip install numpy\n",
        "#!pip install matplotlib"
      ]
    },
    {
      "cell_type": "markdown",
      "source": [
        "Importando as bibliotecas necessárias:"
      ],
      "metadata": {
        "id": "eyB4JpoYlTyy"
      }
    },
    {
      "cell_type": "code",
      "source": [
        "import numpy as np\n",
        "import matplotlib.pyplot as plt"
      ],
      "metadata": {
        "id": "rFUd5GLylUV3"
      },
      "execution_count": null,
      "outputs": []
    },
    {
      "cell_type": "markdown",
      "source": [
        "Mostre, usando análise e simulação, que o Gerador de Números Aleatórios definido por $x_{i+1} = 5x_{i}\\ \\text{mod}\\ (7)$ é um gerador de período completo. Determine a sequência gerada para sementes $x_{0} = 4$\n",
        "e $x_{0} = 7$.\n"
      ],
      "metadata": {
        "id": "iJy26ut5mEVE"
      }
    },
    {
      "cell_type": "code",
      "source": [
        "x = 4                 # Semente inicial.\n",
        "x1 = np.array([x])    # Sequência de amostras geradas.\n",
        "\n",
        "for _ in range(6):\n",
        "    x = (5*x) % 7\n",
        "    x1 = np.append(x1, x)\n",
        "\n",
        "plt.bar(np.arange(7), x1)\n",
        "plt.show()\n"
      ],
      "metadata": {
        "colab": {
          "base_uri": "https://localhost:8080/",
          "height": 430
        },
        "id": "cKf5j4VJh4eV",
        "outputId": "3e3e3759-7b36-470f-80b0-3a576c281a06"
      },
      "execution_count": null,
      "outputs": [
        {
          "output_type": "display_data",
          "data": {
            "text/plain": [
              "<Figure size 640x480 with 1 Axes>"
            ],
            "image/png": "[encoded data removed]"
          },
          "metadata": {}
        }
      ]
    }
  ]
}