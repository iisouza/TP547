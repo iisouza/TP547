{
  "nbformat": 4,
  "nbformat_minor": 0,
  "metadata": {
    "colab": {
      "provenance": []
    },
    "kernelspec": {
      "name": "python3",
      "display_name": "Python 3"
    },
    "language_info": {
      "name": "python"
    }
  },
  "cells": [
    {
      "cell_type": "markdown",
      "source": [
        "Faça um programa para estimar a probabilidade de obter pelo menos uma face $6$ ao lançar $5$ dados."
      ],
      "metadata": {
        "id": "7TJgioXdpthQ"
      }
    },
    {
      "cell_type": "markdown",
      "source": [
        "Importando as bibliotecas necessárias:"
      ],
      "metadata": {
        "id": "wHRzdOnYpvfK"
      }
    },
    {
      "cell_type": "code",
      "source": [
        "import numpy as np"
      ],
      "metadata": {
        "id": "Zy91tLdMmm_G"
      },
      "execution_count": 1,
      "outputs": []
    },
    {
      "cell_type": "markdown",
      "source": [
        "Considerações para uma solução analítica:\n",
        "\n",
        "Seja X uma Variável Aleatória Discreta que modela o número de faces $6$ obtidas ao se lançar $5$ dados. Pelo Método da Probabilidade Complementar:\n",
        "\n",
        "$$ P(X\\geq1) = 1 - P(X=0),$$ ou seja, a probabilidade pode ser calculada pelo complemento de não obter nenhuma face $6$.\n",
        "\n",
        "Considerando $p=\\frac{1}{6}$ a probabilidade de se obter a face $6$ em um dado honesto, tem-se $q=1-p=\\frac{5}{6}$ a probabilidade de não obter a face $6$. Sendo os lançamentos dos dados eventos independentes:\n",
        "\n",
        "$$P(X=0) = \\left(\\frac{5}{6}\\right)^{5}\\ \\therefore\\ \\mathbf{P(X=0)=0.4018}$$\n",
        "\n",
        "Assim:\n",
        "\n",
        "$$P(X\\geq1)=1-P(X=0)=1-0.4018\\ \\therefore\\ \\mathbf{P(X\\geq1)=0.5982}$$"
      ],
      "metadata": {
        "id": "-CPOMFb54-1C"
      }
    },
    {
      "cell_type": "code",
      "execution_count": 4,
      "metadata": {
        "id": "1N2wb_YYmdp8",
        "colab": {
          "base_uri": "https://localhost:8080/"
        },
        "outputId": "2f93d5ac-22f3-4883-f0d2-2f9c0cb8c178"
      },
      "outputs": [
        {
          "output_type": "stream",
          "name": "stdout",
          "text": [
            "A probabilidade de se obter ao menos uma face 6 é 0.5979\n"
          ]
        }
      ],
      "source": [
        "N = 1000000             # Número de repetições.\n",
        "sucessos = 0            # Quantidade de faces 6.\n",
        "quantidade_dados = 5    # Dados lançados.\n",
        "\n",
        "for _ in range(N):\n",
        "  for _ in range(quantidade_dados):\n",
        "    u = np.random.uniform()\n",
        "    if u > 5/6:\n",
        "      sucessos += 1\n",
        "      break\n",
        "\n",
        "print(f'A probabilidade de se obter ao menos uma face 6 é {sucessos/N:.4f}')"
      ]
    }
  ]
}