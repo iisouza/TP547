{
  "nbformat": 4,
  "nbformat_minor": 0,
  "metadata": {
    "colab": {
      "provenance": []
    },
    "kernelspec": {
      "name": "python3",
      "display_name": "Python 3"
    },
    "language_info": {
      "name": "python"
    }
  },
  "cells": [
    {
      "cell_type": "markdown",
      "source": [
        "Resolver a Integral a seguir pelo Método da Integração de Monte Carlo e pelo Método da Integração por Importância.\n",
        "\n",
        "$$ I = \\int_{-2}^{2}e^{\\ x^2\\ +\\ x}\\ dx$$\n",
        "\n"
      ],
      "metadata": {
        "id": "yGSmkP6wh-sh"
      }
    },
    {
      "cell_type": "markdown",
      "source": [
        "Importando as bibliotecas necessárias:"
      ],
      "metadata": {
        "id": "7iNk4xKGAy6d"
      }
    },
    {
      "cell_type": "code",
      "source": [
        "import numpy as np\n",
        "import matplotlib.pyplot as plt"
      ],
      "metadata": {
        "id": "odzCvbmtAKa9"
      },
      "execution_count": 18,
      "outputs": []
    },
    {
      "cell_type": "markdown",
      "source": [
        "Inicialização da quantidade de amostras:"
      ],
      "metadata": {
        "id": "R_usgXTsA31u"
      }
    },
    {
      "cell_type": "code",
      "source": [
        "N = 10000000\n",
        "u = np.random.uniform(0, 1, N)"
      ],
      "metadata": {
        "id": "HOKHaahVA9tr"
      },
      "execution_count": 19,
      "outputs": []
    },
    {
      "cell_type": "markdown",
      "source": [
        "Para o Método de Monte Carlo, o intervalo da Integral deve ser padronizado para $(0,\\ 1)$ por uma variável auxiliar\n",
        "\n",
        "$$u=\\frac{x-a}{b-a}\\ \\therefore\\ du=\\frac{dx}{b-a},$$ tal que $$ I = \\int_{a}^{b} g(x)\\ dx = \\int_{0}^{1}g((b-a)u+a)(b-a)\\ du.$$ $$$$\n",
        "\n",
        "Dessa forma, $$u=\\frac{x-(-2)}{2-(-2)}=\\frac{x+2}{2+2},$$\n",
        "\n",
        "portanto: $$x=4u-2\\ \\rightarrow\\ dx = 4du$$ $$$$ $$I = \\int_{-2}^{2}e^{\\ x^2\\ +\\ x}\\ dx = 4\\cdot\\int_{0}^{1}e^{\\ (4u-2)^2\\ +\\ (4u-2)}\\ du$$"
      ],
      "metadata": {
        "id": "eN8ZLBs9FyiD"
      }
    },
    {
      "cell_type": "code",
      "source": [
        "u = np.random.uniform(0, 1, N)\n",
        "integral = 4*np.sum(np.exp(pow(4*u-2, 2) + (4*u-2)))/N\n",
        "print(f'O resultado da integral pelo Método de Monte Carlo é {integral:.4f}.')"
      ],
      "metadata": {
        "colab": {
          "base_uri": "https://localhost:8080/"
        },
        "id": "wch_BauJIK7E",
        "outputId": "eb631947-acf6-4bb6-b06a-7cce33cc8c84"
      },
      "execution_count": 20,
      "outputs": [
        {
          "output_type": "stream",
          "name": "stdout",
          "text": [
            "O resultado da integral pelo Método de Monte Carlo é 93.2629.\n"
          ]
        }
      ]
    },
    {
      "cell_type": "markdown",
      "source": [
        "Pelo Método da Integração por Importância, é definida uma função $g(x)$ tal que\n",
        "\n",
        "$$\\int_{a}^{b}\\ g(x)\\ dx = 1$$ $$$$\n",
        "\n",
        "Foi escolhida a função $g(x) = A\\cdot e^{x}$ no intervalo $(-2,\\ 2)$. Assim:\n",
        "\n",
        "$$\\int_{-2}^{2}\\ Ae^{x}\\ dx = 1\\ \\therefore\\ \\mathbf{A=\\frac{e^2}{e^4-1}}$$\n",
        "\n",
        "\n"
      ],
      "metadata": {
        "id": "u6Umsu64V-jh"
      }
    },
    {
      "cell_type": "markdown",
      "source": [
        "É realizada a seguinte modificação:\n",
        "\n",
        "$$I=\\int_{a}^{b}\\ f(x)\\ dx = \\int_{a}^{b}\\ f(x)\\cdot\\frac{g(x)}{g(x)}\\ dx = E_g\\left[\\frac{f(x)}{g(x)}\\right]$$ $$$$\n",
        "\n",
        "Para gerar amostras para $g(x)$, o Método da Inversa considera a Função de Distribuição Cumulativa de $x$:\n",
        "\n",
        "$$F_X(x)=\\int_{-2}^{x}\\ \\frac{e^{2}}{e^4-1}\\cdot e^t\\ dt\\ \\therefore\\ \\mathbf{U=\\frac{e^2}{e^4-1}\\left(e^x-\\frac{1}{e^2}\\right)}$$ $$$$\n",
        "\n",
        "Para a Inversa da Função de Distribuição Cumulativa de  x:\n",
        "\n",
        "$$x=ln\\left(U\\cdot\\frac{e^4-1}{e^2}+\\frac{1}{e^2}\\right)$$ $$$$\n",
        "\n"
      ],
      "metadata": {
        "id": "rUcJxOUConH6"
      }
    },
    {
      "cell_type": "code",
      "source": [
        "x = np.log((1+u*(np.exp(4)-1))/np.exp(2))\n",
        "integral = np.sum(np.exp(x**2 + x)/(np.exp(2)/(np.exp(4)-1)*np.exp(x)))/N\n",
        "print(f'O resultado da integral pelo Método de Importância é {integral:.4f}.')"
      ],
      "metadata": {
        "colab": {
          "base_uri": "https://localhost:8080/"
        },
        "id": "LEKF-pA1I81-",
        "outputId": "79efed61-50d3-4964-9ace-97cad43bd8e5"
      },
      "execution_count": 21,
      "outputs": [
        {
          "output_type": "stream",
          "name": "stdout",
          "text": [
            "O resultado da integral pelo Método de Importância é 93.2233.\n"
          ]
        }
      ]
    },
    {
      "cell_type": "markdown",
      "source": [
        "Plotando o Gráfico com a função e a área em destaque sendo a Integral calculada considerando o Método da Integração por Importância:"
      ],
      "metadata": {
        "id": "aV2VQKkdGFTZ"
      }
    },
    {
      "cell_type": "code",
      "source": [
        "print('\\n')\n",
        "x = np.linspace(-2, 2, N)\n",
        "y = np.exp(x**2 + x)\n",
        "\n",
        "plt.plot(x, y, color='black')\n",
        "plt.xlim(-2, 2), plt.ylim(0, np.exp(2**2 + 2))\n",
        "plt.xlabel('x'), plt.ylabel('y')\n",
        "\n",
        "plt.text(-1, 200, f'Integral = {integral:.4f}', fontsize=12, color='black')\n",
        "plt.fill_between(x, y, color='blue')\n",
        "plt.show()\n"
      ],
      "metadata": {
        "colab": {
          "base_uri": "https://localhost:8080/",
          "height": 487
        },
        "id": "OBd25_wVGEGF",
        "outputId": "16f87fe9-8573-48d2-efb9-404a338daf6d"
      },
      "execution_count": 22,
      "outputs": [
        {
          "output_type": "stream",
          "name": "stdout",
          "text": [
            "\n",
            "\n"
          ]
        },
        {
          "output_type": "display_data",
          "data": {
            "text/plain": [
              "<Figure size 640x480 with 1 Axes>"
            ],
            "image/png": "[encoded data removed]"
          },
          "metadata": {}
        }
      ]
    }
  ]
}