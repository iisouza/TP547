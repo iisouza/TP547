{
  "nbformat": 4,
  "nbformat_minor": 0,
  "metadata": {
    "colab": {
      "provenance": []
    },
    "kernelspec": {
      "name": "python3",
      "display_name": "Python 3"
    },
    "language_info": {
      "name": "python"
    }
  },
  "cells": [
    {
      "cell_type": "markdown",
      "source": [
        "Resolver a Integral a seguir pelo Método da Integração de Monte Carlo e pelo Método da Integração por Importância.\n",
        "\n",
        "$$ I = \\int_{0}^{\\infty}\\ x(x^2+1)^{-2}\\ dx$$"
      ],
      "metadata": {
        "id": "yGSmkP6wh-sh"
      }
    },
    {
      "cell_type": "markdown",
      "source": [
        "Importando as bibliotecas necessárias:"
      ],
      "metadata": {
        "id": "7iNk4xKGAy6d"
      }
    },
    {
      "cell_type": "code",
      "source": [
        "import numpy as np\n",
        "import matplotlib.pyplot as plt"
      ],
      "metadata": {
        "id": "odzCvbmtAKa9"
      },
      "execution_count": 10,
      "outputs": []
    },
    {
      "cell_type": "markdown",
      "source": [
        "Inicialização da quantidade de amostras:"
      ],
      "metadata": {
        "id": "R_usgXTsA31u"
      }
    },
    {
      "cell_type": "code",
      "source": [
        "N = 10000000\n",
        "u = np.random.uniform(0, 1, N)"
      ],
      "metadata": {
        "id": "HOKHaahVA9tr"
      },
      "execution_count": 11,
      "outputs": []
    },
    {
      "cell_type": "markdown",
      "source": [
        "Para o Método de Monte Carlo, o intervalo da Integral deve ser padronizado para $(0,\\ 1)$ por uma variável auxiliar\n",
        "\n",
        "$$u=\\frac{1}{1+x}\\ \\therefore\\ du=-\\frac{dx}{(1+x)^2}=-u^2dx,$$ tal que $$ I = \\int_{0}^{\\infty} g(x)\\ dx = \\int_{0}^{1}\\frac{g\\left(\\frac{1}{u}-1\\right)}{u^2}\\ du.$$"
      ],
      "metadata": {
        "id": "eN8ZLBs9FyiD"
      }
    },
    {
      "cell_type": "code",
      "source": [
        "integral = np.sum((1/u-1)*pow((1/u-1)**2+1, -2)/u**2)/N\n",
        "print(f'O resultado da integral pelo Método de Monte Carlo é {integral:.4f}.')"
      ],
      "metadata": {
        "colab": {
          "base_uri": "https://localhost:8080/"
        },
        "id": "wch_BauJIK7E",
        "outputId": "56c623c3-35e2-48ea-946b-24e6c87a0c70"
      },
      "execution_count": 12,
      "outputs": [
        {
          "output_type": "stream",
          "name": "stdout",
          "text": [
            "O resultado da integral pelo Método de Monte Carlo é 0.5000.\n"
          ]
        }
      ]
    },
    {
      "cell_type": "markdown",
      "source": [
        "Plotando o Gráfico com a função e a área em destaque sendo a Integral calculada:"
      ],
      "metadata": {
        "id": "RQxyC6i22VNG"
      }
    },
    {
      "cell_type": "code",
      "source": [
        "print('\\n')\n",
        "x = np.linspace(0, 1000, N)\n",
        "y = x/(x**2 + 1)**2\n",
        "\n",
        "plt.plot(x, y, color='black')\n",
        "plt.fill_between(x, y, color='blue')\n",
        "plt.xlim(0, 7); plt.xlabel('x'), plt.ylabel('y')\n",
        "plt.text(4, 0.15, f'Integral = {integral:.4f}', fontsize=12, color='black')\n",
        "\n",
        "plt.show()\n"
      ],
      "metadata": {
        "colab": {
          "base_uri": "https://localhost:8080/",
          "height": 484
        },
        "id": "IyVUxqeB2Y7a",
        "outputId": "3d8f2d74-0fac-453e-96b3-8b9dc9988a3a"
      },
      "execution_count": 13,
      "outputs": [
        {
          "output_type": "stream",
          "name": "stdout",
          "text": [
            "\n",
            "\n"
          ]
        },
        {
          "output_type": "display_data",
          "data": {
            "text/plain": [
              "<Figure size 640x480 with 1 Axes>"
            ],
            "image/png": "[encoded data removed]"
          },
          "metadata": {}
        }
      ]
    },
    {
      "cell_type": "markdown",
      "source": [
        "Pelo Método da Integração por Importância, é definida uma função  g(x)  tal que\n",
        "\n",
        "$$\\int_{a}^{b}\\ g(x)\\ dx = 1$$ $$$$\n",
        "\n",
        "Observado o comportamento de cauda longa da função $f(x)$, foi escolhida a função $g(x)=A\\cdot e^{-x}$, com $A=1$.\n",
        "\n",
        "$$\\int_{0}^{\\infty}\\ A\\cdot e^{-x}\\ dx = 1\\ \\therefore\\ \\mathbf{A=1}$$ $$$$\n",
        "\n",
        "É realizada a seguinte modificação:\n",
        "\n",
        "$$I=\\int_{a}^{b}\\ f(x)\\ dx = \\int_{a}^{b}\\ f(x)\\cdot\\frac{g(x)}{g(x)}\\ dx = E_g\\left[\\frac{f(x)}{g(x)}\\right]$$ $$$$\n",
        "\n",
        "Para gerar amostras para $g(x)$, o Método da Inversa considera a Função de Distribuição Cumulativa de $x$:\n",
        "\n",
        "$$F_X(x)=\\int_{0}^{x}\\ e^{-t}\\ dt\\ \\therefore\\ \\mathbf{F_X(x) = 1-e^{-x}}$$\n",
        "\n",
        "$$U = 1 - e^{-x} \\rightarrow\\ e^{-x} = 1 - U$$ $$$$\n",
        "\n",
        "Para a Inversa da Função de Distribuição Cumulativa de  x:\n",
        "\n",
        "$$ln(e^{-x}) = ln(1-U)\\ \\therefore\\ x = -ln(1-U)$$\n",
        "$$$$\n",
        "\n",
        "---\n",
        "\n"
      ],
      "metadata": {
        "id": "smXj-kOe2e9C"
      }
    },
    {
      "cell_type": "code",
      "source": [
        "x = -np.log(1 - u)\n",
        "integral = np.sum(x*pow(x**2 + 1, -2)/np.exp(-x))/N\n",
        "print(f'O resultado da integral pelo Método de Importância é {integral:.4f}')"
      ],
      "metadata": {
        "colab": {
          "base_uri": "https://localhost:8080/"
        },
        "id": "LEKF-pA1I81-",
        "outputId": "db3b7e41-0144-4c03-8836-4ed02d266178"
      },
      "execution_count": 14,
      "outputs": [
        {
          "output_type": "stream",
          "name": "stdout",
          "text": [
            "O resultado da integral pelo Método de Importância é 0.4993\n"
          ]
        }
      ]
    }
  ]
}