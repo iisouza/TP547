{
  "nbformat": 4,
  "nbformat_minor": 0,
  "metadata": {
    "colab": {
      "provenance": []
    },
    "kernelspec": {
      "name": "python3",
      "display_name": "Python 3"
    },
    "language_info": {
      "name": "python"
    }
  },
  "cells": [
    {
      "cell_type": "markdown",
      "source": [
        "Resolver a Integral a seguir pelo Método da Integração de Monte Carlo e pelo Método da Integração por Importância.\n",
        "\n",
        "$$ I = \\int_{0}^{1}\\ (1-x^2)^{\\frac{3}{2}}\\ dx$$ $$$$\n",
        "\n"
      ],
      "metadata": {
        "id": "yGSmkP6wh-sh"
      }
    },
    {
      "cell_type": "markdown",
      "source": [
        "Importando as bibliotecas necessárias:"
      ],
      "metadata": {
        "id": "7iNk4xKGAy6d"
      }
    },
    {
      "cell_type": "code",
      "source": [
        "import numpy as np\n",
        "import matplotlib.pyplot as plt"
      ],
      "metadata": {
        "id": "odzCvbmtAKa9"
      },
      "execution_count": 6,
      "outputs": []
    },
    {
      "cell_type": "markdown",
      "source": [
        "Inicialização da quantidade de amostras:"
      ],
      "metadata": {
        "id": "R_usgXTsA31u"
      }
    },
    {
      "cell_type": "code",
      "source": [
        "N = 1000000\n",
        "u = np.random.uniform(0, 1, N)"
      ],
      "metadata": {
        "id": "HOKHaahVA9tr"
      },
      "execution_count": 7,
      "outputs": []
    },
    {
      "cell_type": "markdown",
      "source": [
        "Para a Integral de Monte Carlo, o intervalo da integral já está padronizado $(0, 1)$, não sendo necessária nenhuma manipulação:"
      ],
      "metadata": {
        "id": "eN8ZLBs9FyiD"
      }
    },
    {
      "cell_type": "code",
      "source": [
        "integral = np.sum(pow(1-u**2, 3/2))/N\n",
        "print(f'O resultado da integral pelo Método de Monte Carlo é {integral:.4f}.')"
      ],
      "metadata": {
        "colab": {
          "base_uri": "https://localhost:8080/"
        },
        "id": "wch_BauJIK7E",
        "outputId": "a262bb40-82cd-402a-fab2-655dffc5a934"
      },
      "execution_count": 8,
      "outputs": [
        {
          "output_type": "stream",
          "name": "stdout",
          "text": [
            "O resultado da integral pelo Método de Monte Carlo é 0.5891.\n"
          ]
        }
      ]
    },
    {
      "cell_type": "markdown",
      "source": [
        "Pelo Método da Integração por Importância, é definida uma função $g(x)$ tal que\n",
        "\n",
        "$$\\int_{a}^{b}\\ g(x)\\ dx = 1$$ $$$$\n",
        "\n",
        "Foi escolhida a função $g(x) = A\\cdot(1-x)$ no intervalo $(0,\\ 1)$. Assim:\n",
        "\n",
        "$$\\int_{0}^{1}\\ A\\cdot(1-x)\\ dx = 1\\ \\therefore\\ \\mathbf{A=2}$$ $$$$\n",
        "\n",
        "É realizada a seguinte modificação:\n",
        "\n",
        "$$I=\\int_{a}^{b}\\ f(x)\\ dx = \\int_{a}^{b}\\ f(x)\\cdot\\frac{g(x)}{g(x)}\\ dx = E_g\\left[\\frac{f(x)}{g(x)}\\right]$$ $$$$\n",
        "\n",
        "Para gerar amostras para $g(x)$, o Método da Inversa considera a Função de Distribuição Cumulativa de $x$:\n",
        "\n",
        "$$F_X(x)=\\int_{0}^{x}\\ 2\\cdot(1-t)\\ dt\\ \\therefore\\ \\mathbf{F_X(x) = 2x - x^2}$$\n",
        "\n",
        "$$U = 2x - x^2\\ \\rightarrow\\ x^2 - 2x + U = 0$$ $$$$\n",
        "\n",
        "Para a Inversa da Função de Distribuição Cumulativa de  x:\n",
        "\n",
        "$$$$ $$\\Delta = b^2-4ac=(-2)^2-4(1)(U)\\ \\therefore\\ \\mathbf{\\Delta = 4 - 4U}$$ $$$$\n",
        "\n",
        "$$x=\\frac{2\\ \\pm\\ \\sqrt{(4 - 4U)}}{2}\\ \\therefore\\ x = 1-\\sqrt{1-U}$$ é única raiz da equação no intervalo (0, 1).\n",
        "$$$$\n",
        "\n"
      ],
      "metadata": {
        "id": "u6Umsu64V-jh"
      }
    },
    {
      "cell_type": "code",
      "source": [
        "x = 1 - np.sqrt(1 - u)\n",
        "integral = np.sum(pow(1-x**2, 3/2)/(2*(1-x)))/N\n",
        "print(f'O resultado da integral pelo Método de Importância é {integral:.4f}.')"
      ],
      "metadata": {
        "colab": {
          "base_uri": "https://localhost:8080/"
        },
        "id": "LEKF-pA1I81-",
        "outputId": "e22626ff-e26b-47d6-9638-81eeb4e8b1b6"
      },
      "execution_count": 9,
      "outputs": [
        {
          "output_type": "stream",
          "name": "stdout",
          "text": [
            "O resultado da integral pelo Método de Importância é 0.5890.\n"
          ]
        }
      ]
    },
    {
      "cell_type": "markdown",
      "source": [
        "Plotando o Gráfico com a função e a área em destaque sendo a Integral calculada considerando o Método da Integração por Importância:"
      ],
      "metadata": {
        "id": "aV2VQKkdGFTZ"
      }
    },
    {
      "cell_type": "code",
      "source": [
        "print('\\n')\n",
        "x = np.linspace(0, 1, N)\n",
        "y = pow(1 - x**2, 3/2)\n",
        "\n",
        "plt.plot(x, y, color='black')\n",
        "plt.xlim(0, 1), plt.ylim(0, 1)\n",
        "plt.xlabel('x'), plt.ylabel('y')\n",
        "\n",
        "plt.text(0.6, 0.8, f'Integral = {integral:.4f}', fontsize=12, color='black')\n",
        "plt.fill_between(x, y, color='blue')\n",
        "plt.show()\n"
      ],
      "metadata": {
        "colab": {
          "base_uri": "https://localhost:8080/",
          "height": 490
        },
        "id": "OBd25_wVGEGF",
        "outputId": "ba94df4b-c614-4f41-a1e9-35c987e0e7b8"
      },
      "execution_count": 10,
      "outputs": [
        {
          "output_type": "stream",
          "name": "stdout",
          "text": [
            "\n",
            "\n"
          ]
        },
        {
          "output_type": "display_data",
          "data": {
            "text/plain": [
              "<Figure size 640x480 with 1 Axes>"
            ],
            "image/png": "[encoded data removed]"
          },
          "metadata": {}
        }
      ]
    }
  ]
}