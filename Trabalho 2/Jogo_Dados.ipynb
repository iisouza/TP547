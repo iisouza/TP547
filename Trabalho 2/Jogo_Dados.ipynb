{
  "nbformat": 4,
  "nbformat_minor": 0,
  "metadata": {
    "colab": {
      "provenance": []
    },
    "kernelspec": {
      "name": "python3",
      "display_name": "Python 3"
    },
    "language_info": {
      "name": "python"
    }
  },
  "cells": [
    {
      "cell_type": "markdown",
      "source": [
        "Você paga $1$ real e pode lançar quatro dados. Se a soma dos olhos nos dados for inferior a $9$, recebe de volta $10$ reais, caso contrário perde o investimento de $1$ real. Você vai, então, a longo prazo, ganhar ou perder dinheiro ao jogar este jogo?"
      ],
      "metadata": {
        "id": "8m9JAkaA8NBz"
      }
    },
    {
      "cell_type": "markdown",
      "source": [
        "Importando as bibliotecas necessárias:"
      ],
      "metadata": {
        "id": "ZmKm_C_39Gsc"
      }
    },
    {
      "cell_type": "code",
      "source": [
        "import numpy as np\n",
        "import matplotlib.pyplot as plt"
      ],
      "metadata": {
        "id": "IulHhZQlbXnZ"
      },
      "execution_count": 1,
      "outputs": []
    },
    {
      "cell_type": "markdown",
      "source": [
        "Seja $p$ a probabilidade de ser obter uma soma inferior a $9$ no lançamento de quatro dados.\n",
        "\n",
        "Considerando os lançamentos de cada dado como eventos independentes, o espaço amostral é formado por $6^{4}$ possibilidades distribuídas entre $4$, soma mínima, e $24$, soma máxima."
      ],
      "metadata": {
        "id": "BuQFVK2O9Jxi"
      }
    },
    {
      "cell_type": "code",
      "source": [
        "count = 0\n",
        "for dado1 in range(1, 7):\n",
        "  for dado2 in range(1, 7):\n",
        "    for dado3 in range(1, 7):\n",
        "      for dado4 in range(1, 7):\n",
        "        if dado1 + dado2 + dado3 + dado4 < 9: count += 1\n",
        "\n",
        "p = count / 6 ** 4\n",
        "print(f'A probabilidade de somar menos que 9 é {p:.4f}')"
      ],
      "metadata": {
        "colab": {
          "base_uri": "https://localhost:8080/"
        },
        "id": "qgayefI_c5D1",
        "outputId": "595ae323-0dd2-4752-f756-2fe1009954cb"
      },
      "execution_count": 2,
      "outputs": [
        {
          "output_type": "stream",
          "name": "stdout",
          "text": [
            "A probabilidade de somar menos que 9 é 0.0540\n"
          ]
        }
      ]
    },
    {
      "cell_type": "markdown",
      "source": [
        "Considerando um jogo com probabilidade $p=0.0540$ de sucesso e $q=1-p=0.946$ de derrota, observa-se que a probabilidade de derrota é muito maior que a probalidade de sucesso.\n",
        "\n",
        "Além disso, o jogo se apresenta como desonesto, pois a razão entre as probabilidades de derrota e vitória é maior que a razão entre o valor de retorno em caso de vitória e o valor pago na aposta:\n",
        "\n",
        "$$\\frac{0.946}{0.054}=17.\\overline{518}>\\frac{\\text{retorno}}{\\text{aposta}}=10$$\n",
        "\n",
        "Assim, é natural que o jogador tenha mais derrotas do que sucessos e os retornos obtidos para os sucessos não compensam as perdas das apostas com derrota.\n",
        "\n",
        "É natural observar que este sistema possui um Estado Absorvente em 0, e que após uma determinada quantidade de jogadas o jogador perderá todo seu dinheiro."
      ],
      "metadata": {
        "id": "FrYmdZsXBM4W"
      }
    },
    {
      "cell_type": "markdown",
      "source": [
        "O modelo para este jogo considera $N$ repetições em que o jogador inicia com saldo $1000$.\n",
        "\n",
        "Observado o caso em que o saldo final será sempre $0$ após muitas jogadas, o modelo estuda em quantas jogadas, em média, o saldo será zerado. A estrutura é encerrada quando o saldo é zerado ou após $5000$ jogadas (consideração de projeto)."
      ],
      "metadata": {
        "id": "OYVE4LYyC-on"
      }
    },
    {
      "cell_type": "code",
      "execution_count": 30,
      "metadata": {
        "id": "NJ5JJLPSaBMr"
      },
      "outputs": [],
      "source": [
        "N = 2000            # Número de repetições.\n",
        "media_perdida = []  # Jogadas em que o saldo foi zerado.\n",
        "\n",
        "for j in range(1, N):\n",
        "  i = 0           # Contador de jogadas.\n",
        "  saldo = [1000]  # Array com o saldo após cada jogada.\n",
        "  count_vitorias, vitorias_consecutivas = [0, 0]\n",
        "\n",
        "  while saldo[i] > 0 and i < 5000:\n",
        "    u = np.random.uniform()\n",
        "    if u < p:\n",
        "      saldo.append(saldo[i] + 10)\n",
        "      count_vitorias += 1\n",
        "    else:\n",
        "      saldo.append(saldo[i] - 1)\n",
        "      vitorias_consecutivas = max(count_vitorias, vitorias_consecutivas)\n",
        "      count_vitorias = 0\n",
        "\n",
        "    i += 1\n",
        "\n",
        "  if len(saldo) != 5000: saldo += [0] * (5000 - len(saldo))\n",
        "  media_perdida.append(i)"
      ]
    },
    {
      "cell_type": "markdown",
      "source": [
        "Análise das métricas obtidas:"
      ],
      "metadata": {
        "id": "Ed_CoaHCHgw7"
      }
    },
    {
      "cell_type": "code",
      "source": [
        "print(f'O jogador zerou o saldo em {len(media_perdida)/N:.2%} das jogadas.')\n",
        "print(f'A quantidade média de jogadas para zerar o saldo foi de {np.mean(media_perdida):.0f}.')\n",
        "print(f'A maior sequência de vitórias foi {vitorias_consecutivas}.')"
      ],
      "metadata": {
        "colab": {
          "base_uri": "https://localhost:8080/"
        },
        "id": "0SoJZsxqHkO5",
        "outputId": "dc30b7a6-02f8-45f3-87f1-c1c06ae5bf85"
      },
      "execution_count": 32,
      "outputs": [
        {
          "output_type": "stream",
          "name": "stdout",
          "text": [
            "O jogador zerou o saldo em 99.95% das jogadas.\n",
            "A quantidade média de jogadas para zerar o saldo foi de 2462.\n",
            "A maior sequência de vitórias foi 3.\n"
          ]
        }
      ]
    },
    {
      "cell_type": "markdown",
      "source": [
        "Evidentemente, as jogadas em que o saldo não terminou zerado representam um baixo percentual do total de partidas, além de que o saldo seria zerado caso a quantidade de jogadas fosse maior.\n",
        "\n",
        "Além disso, a média de jogadas para zerar é influenciada pelo saldo inicial, quanto maior mais tempo até zerar.\n",
        "\n"
      ],
      "metadata": {
        "id": "abGhcfLJIjdZ"
      }
    },
    {
      "cell_type": "markdown",
      "source": [
        "O Gráfico a seguir ilustra o comportamento do saldo após cada jogada para a última repetição e evendencia o Estado Absorvente em 0:"
      ],
      "metadata": {
        "id": "U7DwPDCQI8jM"
      }
    },
    {
      "cell_type": "code",
      "source": [
        "print('\\n')\n",
        "\n",
        "plt.plot(saldo, label='Saldo')\n",
        "plt.xlabel('Quantidade de Jogadas'); plt.ylabel('Saldo do Jogador')\n",
        "plt.grid(True); plt.legend(); plt.show()"
      ],
      "metadata": {
        "colab": {
          "base_uri": "https://localhost:8080/",
          "height": 484
        },
        "id": "VVOV99PGbbVd",
        "outputId": "48be02c8-71ac-444d-e6f1-b65d62947072"
      },
      "execution_count": 33,
      "outputs": [
        {
          "output_type": "stream",
          "name": "stdout",
          "text": [
            "\n",
            "\n"
          ]
        },
        {
          "output_type": "display_data",
          "data": {
            "text/plain": [
              "<Figure size 640x480 with 1 Axes>"
            ],
            "image/png": "[encoded data removed]"
          },
          "metadata": {}
        }
      ]
    }
  ]
}