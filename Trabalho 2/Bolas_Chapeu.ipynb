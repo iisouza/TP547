{
  "nbformat": 4,
  "nbformat_minor": 0,
  "metadata": {
    "colab": {
      "provenance": []
    },
    "kernelspec": {
      "name": "python3",
      "display_name": "Python 3"
    },
    "language_info": {
      "name": "python"
    }
  },
  "cells": [
    {
      "cell_type": "markdown",
      "source": [
        "Suponha que haja $40$ bolas em um chapéu, das quais $10$ são vermelhas, $10$ são azuis, $10$ são amarelas e $10$ são roxas. Qual é a probabilidade de obter duas bolas azuis e duas roxas ao tirar $10$ bolas aleatoriamente do chapéu?"
      ],
      "metadata": {
        "id": "Mmkc2Eftkgqa"
      }
    },
    {
      "cell_type": "markdown",
      "source": [
        "Importando as bibliotecas necessárias:"
      ],
      "metadata": {
        "id": "0sCj1S7Jkqqz"
      }
    },
    {
      "cell_type": "code",
      "source": [
        "import numpy as np"
      ],
      "metadata": {
        "id": "AyyA6-otktt3"
      },
      "execution_count": 1,
      "outputs": []
    },
    {
      "cell_type": "markdown",
      "source": [
        "Quantidade de repetições realizadas:"
      ],
      "metadata": {
        "id": "2SWyvCk5k-eL"
      }
    },
    {
      "cell_type": "code",
      "source": [
        "N = 1000000"
      ],
      "metadata": {
        "id": "J36t9qEflDG3"
      },
      "execution_count": 2,
      "outputs": []
    },
    {
      "cell_type": "markdown",
      "source": [
        "Considerações para o caso com reposição das bolas no chapéu:\n",
        "\n",
        "- haverá sempre $10$ bolas de cada cor dentro do chapéu, sendo $p=\\frac{10}{40} = 0.25$ a probabilidade de retirada de cada cor;\n",
        "- são definidos três limiares que subdividem o conjunto $(0, 1)$ em quatro subintervalos:\n",
        "  + o intervalo $(0,\\ 0.25)$ representa bolas vermelhas;\n",
        "  + o intervalo $(0.25,\\ 0.5)$ representa bolas azuis;\n",
        "  + o intervalo $(0.5,\\ 0.75)$ representa bolas amarelas;\n",
        "  + o intervalo $(0.75,\\ 1)$ representa bolas roxas.\n",
        "\n",
        "Considerando que a geração de números aleatórios representa uma Variável Contínua, $P(X=x)=0$, logo os limiares dos intervalos $(0.25,\\ 0.5,\\ 0.75)$ não representam diretamente nenhuma cor."
      ],
      "metadata": {
        "id": "MHbXRfn2xXzq"
      }
    },
    {
      "cell_type": "code",
      "source": [
        "sucessos = 0  # Número de sucessos obtidos.\n",
        "\n",
        "vermelha, azul, amarela, roxa = [10]*4              # Quantidade de cada bola no chapéu.\n",
        "total_bolas = vermelha + azul + amarela + roxa\n",
        "\n",
        "limiar_vermelha = vermelha/total_bolas              # Limiar que define uma bola vermelha.\n",
        "limiar_azul = azul/total_bolas + limiar_vermelha    # Limiar que define uma bola azul.\n",
        "limiar_amarela = amarela/total_bolas + limiar_azul  # Limiar que define uma bola amarela.\n",
        "\n",
        "for _ in range(N):\n",
        "  bolas_azuis, bolas_roxas = [0, 0]                 # Quantidade de bolas retiradas.\n",
        "  for _ in range(10):\n",
        "    # Como há reposição, as quantidades de cada bola e os limiares serão\n",
        "    # sempre constantes.\n",
        "    u = np.random.uniform()\n",
        "    if limiar_vermelha < u < limiar_azul: bolas_azuis += 1\n",
        "    elif limiar_amarela < u: bolas_roxas += 1\n",
        "\n",
        "  if bolas_azuis == 2 and bolas_roxas == 2: sucessos += 1\n",
        "\n",
        "print(f'A probabilidade com reposição é {sucessos/N:.4f}')"
      ],
      "metadata": {
        "colab": {
          "base_uri": "https://localhost:8080/"
        },
        "id": "_ocbJXeUn2JU",
        "outputId": "07171c07-45bb-45d1-9a0b-2975d4c534aa"
      },
      "execution_count": 3,
      "outputs": [
        {
          "output_type": "stream",
          "name": "stdout",
          "text": [
            "A probabilidade com reposição é 0.0771\n"
          ]
        }
      ]
    },
    {
      "cell_type": "markdown",
      "source": [
        "O que muda no resultado caso a bola não seja reposta?"
      ],
      "metadata": {
        "id": "N_oeEsmVkn2d"
      }
    },
    {
      "cell_type": "markdown",
      "source": [
        "Considerações para o caso sem reposição das bolas no chapéu:\n",
        "\n",
        "- há um decremento da quantidade total de bolas e da cor retirada no chapéu, afetando os limiares para cada cor;\n",
        "- os limiares iniciais seguem $(0.25, 0.5, 0.75)$, sendo alterados a cada bola retirada do chapéu."
      ],
      "metadata": {
        "id": "EsnBQluozOal"
      }
    },
    {
      "cell_type": "code",
      "source": [
        "sucessos = 0  # Número de sucessos obtidos.\n",
        "\n",
        "for _ in range(N):\n",
        "  # Para o caso com reposição, a quantidade de cada cor e total no chapéu\n",
        "  # devem ser redefinidas entre uma amostra e outra.\n",
        "  bolas_azuis, bolas_roxas = [0, 0]       # Quantidade de bolas retiradas.\n",
        "  vermelha, azul, amarela, roxa = [10]*4  # Quantidade de cada bola no chapéu.\n",
        "  total_bolas = vermelha + azul + amarela + roxa\n",
        "\n",
        "  for _ in range(10):\n",
        "    # Atualização dos limiares antes de cada retirada:\n",
        "    limiar_vermelha = vermelha/total_bolas              # Limiar que define uma bola vermelha.\n",
        "    limiar_azul = azul/total_bolas + limiar_vermelha    # Limiar que define uma bola azul.\n",
        "    limiar_amarela = amarela/total_bolas + limiar_azul  # Limiar que define uma bola amarela.\n",
        "\n",
        "    total_bolas -= 1\n",
        "    u = np.random.uniform()\n",
        "\n",
        "    if u < limiar_vermelha: vermelha -= 1\n",
        "    elif u < limiar_azul:\n",
        "      bolas_azuis += 1  # Contagem apenas na cor de interesse.\n",
        "      azul -= 1\n",
        "    elif u < limiar_amarela: amarela -= 1\n",
        "    else:\n",
        "      bolas_roxas += 1  # Contagem apenas na cor de interesse.\n",
        "      roxa -= 1\n",
        "\n",
        "  if bolas_azuis == 2 and bolas_roxas == 2: sucessos += 1\n",
        "\n",
        "print(f'A probabilidade sem reposição é {sucessos/N:.4f}')"
      ],
      "metadata": {
        "colab": {
          "base_uri": "https://localhost:8080/"
        },
        "id": "lL_h7MP5iDSj",
        "outputId": "429ae724-b1d8-44e1-8b24-6d45a9a11ef9"
      },
      "execution_count": 4,
      "outputs": [
        {
          "output_type": "stream",
          "name": "stdout",
          "text": [
            "A probabilidade sem reposição é 0.0921\n"
          ]
        }
      ]
    }
  ]
}