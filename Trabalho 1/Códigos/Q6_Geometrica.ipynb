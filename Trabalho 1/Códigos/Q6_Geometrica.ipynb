{
  "nbformat": 4,
  "nbformat_minor": 0,
  "metadata": {
    "colab": {
      "provenance": [],
      "include_colab_link": true
    },
    "kernelspec": {
      "name": "python3",
      "display_name": "Python 3"
    },
    "language_info": {
      "name": "python"
    }
  },
  "cells": [
    {
      "cell_type": "markdown",
      "metadata": {
        "id": "view-in-github",
        "colab_type": "text"
      },
      "source": [
        "<a href=\"https://colab.research.google.com/github/iisouza/TP547/blob/main/Q6_Geometrica.ipynb\" target=\"_parent\"><img src=\"https://colab.research.google.com/assets/colab-badge.svg\" alt=\"Open In Colab\"/></a>"
      ]
    },
    {
      "cell_type": "code",
      "execution_count": null,
      "metadata": {
        "id": "rO5XoQvfBmbM"
      },
      "outputs": [],
      "source": [
        "#!pip install numpy\n",
        "#!pip install matplotlib"
      ]
    },
    {
      "cell_type": "markdown",
      "source": [
        "Importando as bibliotecas necessárias:"
      ],
      "metadata": {
        "id": "_V9bQ0OFtLhJ"
      }
    },
    {
      "cell_type": "code",
      "source": [
        "import numpy as np\n",
        "import matplotlib.pyplot as plt"
      ],
      "metadata": {
        "id": "JoedqkzutP5L"
      },
      "execution_count": 1,
      "outputs": []
    },
    {
      "cell_type": "markdown",
      "source": [
        "A Distribuição Discreta Geométrica conta o número de tentativas até o primeiro sucesso. A Função Massa de Probabilidade é dada por $f(x) = p(1− p)^{x−1}$, em que $p$ representa a probabilidade de sucesso e $x$, o núumero de tentativas. Fazer um algoritmo para a geração das variáveis\n",
        "aleatórias geométricas e calcular a probabilidade de que a 6ª bola retirada com reposição seja a primeira bola preta em uma urna com 30 bolas brancas e 20 bolas pretas."
      ],
      "metadata": {
        "id": "BDIurliqtVgr"
      }
    },
    {
      "cell_type": "markdown",
      "source": [
        "Inicialização das variáveis para a distribuição geométrica:"
      ],
      "metadata": {
        "id": "ka1u64yZt0i_"
      }
    },
    {
      "cell_type": "code",
      "source": [
        "p = 0.4       # Probabilidade de sucesso em cada tentativa.\n",
        "N = 100000    # Número de amostras a serem geradas.\n",
        "x = np.random.uniform(0, 1, N)"
      ],
      "metadata": {
        "id": "lJKIMUqgBt3E"
      },
      "execution_count": 2,
      "outputs": []
    },
    {
      "cell_type": "code",
      "source": [
        "value, count = [6, 0] # Valor de referência e contagem.\n",
        "\n",
        "for ix in x:\n",
        "    i = 0\n",
        "    pr = p\n",
        "\n",
        "    while ix >= pr:\n",
        "        pr += (1 - pr) * p\n",
        "        i += 1\n",
        "\n",
        "    if i >= value:\n",
        "        count += 1\n",
        "\n",
        "print('Probabilidade de acertar na 6ª tentativa = {:.4f}'.format(count/N))"
      ],
      "metadata": {
        "colab": {
          "base_uri": "https://localhost:8080/"
        },
        "id": "6YMX3rK5t77R",
        "outputId": "f41cd70d-ffae-4b99-ce87-51f8c9297940"
      },
      "execution_count": 4,
      "outputs": [
        {
          "output_type": "stream",
          "name": "stdout",
          "text": [
            "Probabilidade de acertar na 6ª tentativa = 0.0462\n"
          ]
        }
      ]
    }
  ]
}