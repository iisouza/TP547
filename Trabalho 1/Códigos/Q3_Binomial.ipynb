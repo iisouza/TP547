{
  "nbformat": 4,
  "nbformat_minor": 0,
  "metadata": {
    "colab": {
      "provenance": [],
      "include_colab_link": true
    },
    "kernelspec": {
      "name": "python3",
      "display_name": "Python 3"
    },
    "language_info": {
      "name": "python"
    }
  },
  "cells": [
    {
      "cell_type": "markdown",
      "metadata": {
        "id": "view-in-github",
        "colab_type": "text"
      },
      "source": [
        "<a href=\"https://colab.research.google.com/github/iisouza/TP547/blob/main/Q3_Binomial.ipynb\" target=\"_parent\"><img src=\"https://colab.research.google.com/assets/colab-badge.svg\" alt=\"Open In Colab\"/></a>"
      ]
    },
    {
      "cell_type": "code",
      "source": [
        "#!pip install numpy\n",
        "#!pip install matplotlib"
      ],
      "metadata": {
        "colab": {
          "base_uri": "https://localhost:8080/"
        },
        "id": "-_CPVY1fgl5-",
        "outputId": "ac8a4e9c-e5f7-40c4-a705-e4f7f52f1e22"
      },
      "execution_count": null,
      "outputs": [
        {
          "output_type": "stream",
          "name": "stdout",
          "text": [
            "Requirement already satisfied: numpy in /usr/local/lib/python3.10/dist-packages (1.25.2)\n"
          ]
        }
      ]
    },
    {
      "cell_type": "markdown",
      "source": [
        "Importando as bibliotecas necessárias:"
      ],
      "metadata": {
        "id": "syg32IT3qDM0"
      }
    },
    {
      "cell_type": "code",
      "source": [
        "import numpy as np\n",
        "import matplotlib.pyplot as plt"
      ],
      "metadata": {
        "id": "EYZEjNk9qD86"
      },
      "execution_count": 1,
      "outputs": []
    },
    {
      "cell_type": "markdown",
      "source": [
        "Um fabricante de pistões de metal descobre que, em média, 15% de seus pistões são rejeitados\n",
        "porque são super ou subdimensionados."
      ],
      "metadata": {
        "id": "l2h4en15XdKU"
      }
    },
    {
      "cell_type": "code",
      "execution_count": null,
      "metadata": {
        "id": "jSNnkuNZfgc1"
      },
      "outputs": [],
      "source": [
        "# Inicialização das Variáveis segundo a Distribuição de Bernoulli/Binomial:\n",
        "q = 0.15    # Probabilidade rejeitar o pistão.\n",
        "n = 8       # Quantidade de pistões no lote.\n",
        "N = 100000  # Número de amostras\n",
        "\n",
        "av = np.array([])\n",
        "x = np.random.uniform(0, 1, N)\n",
        "c = q/(1-q) # Razão entre sucesso (rejeição) e falha (aprovação)."
      ]
    },
    {
      "cell_type": "markdown",
      "source": [
        "**(a)** qual é a probabilidade de um lote de 8 pistões conter não mais que 2 rejeitados."
      ],
      "metadata": {
        "id": "-Uv9B0XkXm3h"
      }
    },
    {
      "cell_type": "code",
      "source": [
        "value, count = [2, 0]\n",
        "\n",
        "for ix in x:\n",
        "    i = 0\n",
        "    pr = pow((1 - q), n)\n",
        "    F = pr\n",
        "    while ix>=F:\n",
        "        pr = (c * (n - i) / (i + 1))*pr;\n",
        "        F = F + pr;\n",
        "        i += 1;\n",
        "    av = np.append(av, i)\n",
        "    if i <= value: count += 1\n",
        "\n",
        "print('Probabilidade de rejeitar não mais que 2 = {:.4f}'.format(count/N))"
      ],
      "metadata": {
        "colab": {
          "base_uri": "https://localhost:8080/"
        },
        "id": "3oWut5VIOV3V",
        "outputId": "83a1ef3b-02ca-46f2-f144-d234fb7a9dfd"
      },
      "execution_count": null,
      "outputs": [
        {
          "output_type": "stream",
          "name": "stdout",
          "text": [
            "Probabilidade de rejeitar não mais que 2 = 0.8954\n"
          ]
        }
      ]
    },
    {
      "cell_type": "markdown",
      "source": [
        "**(b)** Qual é a probabilidade de um lote de 8 pistões conter pelo menos 6 rejeitados?"
      ],
      "metadata": {
        "id": "AYh78bEDYH_P"
      }
    },
    {
      "cell_type": "code",
      "source": [
        "value, count = [6, 0]\n",
        "\n",
        "for ix in x:\n",
        "    i = 0\n",
        "    pr = pow((1 - q), n)\n",
        "    F = pr\n",
        "    while ix>=F:\n",
        "        pr = (c * (n - i) / (i + 1))*pr;\n",
        "        F = F + pr;\n",
        "        i += 1;\n",
        "    av = np.append(av, i)\n",
        "    if i >= value: count += 1\n",
        "\n",
        "print('Probabilidade de rejeitar 6 ou mais = {:.4f}'.format(count/N))"
      ],
      "metadata": {
        "colab": {
          "base_uri": "https://localhost:8080/"
        },
        "id": "saVWi3z5OWW1",
        "outputId": "b89a78cf-c386-425c-b553-0b7aced91574"
      },
      "execution_count": null,
      "outputs": [
        {
          "output_type": "stream",
          "name": "stdout",
          "text": [
            "Probabilidade de rejeitar 6 ou mais = 0.0003\n"
          ]
        }
      ]
    },
    {
      "cell_type": "markdown",
      "source": [
        "**(c)** Traçar o histograma da variável analisada."
      ],
      "metadata": {
        "id": "hk8bpjT6YIjl"
      }
    },
    {
      "cell_type": "code",
      "source": [
        "plt.hist(av, bins=range(int(av.min()), int(av.max()) + 1), density=True)\n",
        "plt.title('Distribuição da Quantidade de Pistões Rejeitados')\n",
        "plt.xlabel('Pistões Rejeitados')\n",
        "plt.ylabel('Densidade')\n",
        "plt.show()"
      ],
      "metadata": {
        "colab": {
          "base_uri": "https://localhost:8080/",
          "height": 472
        },
        "id": "JqdCdSj6OWkJ",
        "outputId": "6a6b0817-0b1e-4c5b-ce55-ef7378cf5553"
      },
      "execution_count": null,
      "outputs": [
        {
          "output_type": "display_data",
          "data": {
            "text/plain": [
              "<Figure size 640x480 with 1 Axes>"
            ],
            "image/png": "[encoded data removed]"
          },
          "metadata": {}
        }
      ]
    }
  ]
}